{
 "cells": [
  {
   "cell_type": "code",
   "execution_count": 5,
   "metadata": {},
   "outputs": [],
   "source": [
    "import psycopg2\n",
    "import csv\n",
    "from datetime import datetime\n",
    "from decimal import Decimal, InvalidOperation\n",
    "\n",
      #Prencher com informações do e-mail
    "user =,
    "password =,
    "host = ,
    "database = ,
    "\n",
    "\n",
    "def convert_preco(preco_str):\n",
    "    try:\n",
    "        return Decimal(preco_str)\n",
    "    except InvalidOperation:\n",
    "        return None\n",
    "    \n",
    "def convert_quantidade(quantidade_str):\n",
    "    try:\n",
    "        return int(quantidade_str)\n",
    "    except ValueError:\n",
    "        return 0\n",
    "    \n",
    "try:\n",
    "    connection = psycopg2.connect(\n",
    "        host=host,\n",
    "        database=database,\n",
    "        user=user,\n",
    "        password=password\n",
    "    )\n",
    "\n",
    "    cursor = connection.cursor()\n",
    "    with open('data_clean.csv', newline='', encoding='utf-8') as csvfile:\n",
    "        csvreader = csv.DictReader(csvfile)\n",
    "        for row in csvreader:\n",
    "            data = datetime.strptime(row['data'], '%d/%m/%Y').date()\n",
    "            produto = row['produto']\n",
    "            categoria = row['categoria']\n",
    "            quantidade = convert_quantidade(row['quantidade'])\n",
    "            preco = convert_preco(row['preco'])\n",
    "\n",
    "            cursor.execute(\"\"\"INSERT INTO produtos (data, produto, categoria, quantidade, preco) VALUES (%s, %s, %s, %s, %s); \"\"\", (data, produto, categoria, quantidade, preco))\n",
    "    \n",
    "    connection.commit()\n",
    "    \n",
    "finally:\n",
    "    cursor.close()\n",
    "    connection.close()"
   ]
  }
 ],
 "metadata": {
  "kernelspec": {
   "display_name": "Python 3",
   "language": "python",
   "name": "python3"
  },
  "language_info": {
   "codemirror_mode": {
    "name": "ipython",
    "version": 3
   },
   "file_extension": ".py",
   "mimetype": "text/x-python",
   "name": "python",
   "nbconvert_exporter": "python",
   "pygments_lexer": "ipython3",
   "version": "3.12.3"
  }
 },
 "nbformat": 4,
 "nbformat_minor": 2
}
